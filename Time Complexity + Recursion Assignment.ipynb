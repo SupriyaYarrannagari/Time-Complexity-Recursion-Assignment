{
 "cells": [
  {
   "cell_type": "code",
   "execution_count": null,
   "id": "c882d45f",
   "metadata": {},
   "outputs": [],
   "source": [
    "#Problem 1 :\n",
    "def quicksort(arr):\n",
    "    if len(arr) <= 1:\n",
    "        return arr\n",
    "    pivot = arr[len(arr) // 2]\n",
    "    left = [x for x in arr if x < pivot]\n",
    "    middle = [x for x in arr if x == pivot]\n",
    "    right = [x for x in arr if x > pivot]\n",
    "    return quicksort(left) + middle + quicksort(right)\n",
    "\n",
    "Average Time Complexity : O(nlogn)\n",
    "worst Time complexity: O(n2)"
   ]
  },
  {
   "cell_type": "code",
   "execution_count": null,
   "id": "1ef67a6e",
   "metadata": {},
   "outputs": [],
   "source": [
    "#Problem 2 :\n",
    "def nested_loop_example(matrix):\n",
    "    rows, cols = len(matrix), len(matrix[0])\n",
    "    total = 0\n",
    "    for i in range(rows):\n",
    "        for j in range(cols):\n",
    "            total += matrix[i][j]\n",
    "    return tota1\n",
    "\n",
    "Time complexity : O(m * n)"
   ]
  },
  {
   "cell_type": "code",
   "execution_count": null,
   "id": "b327f9c3",
   "metadata": {},
   "outputs": [],
   "source": [
    "#Problem 3 :\n",
    "def example_function(arr):\n",
    "    result = 0\n",
    "    for element in arr:\n",
    "        result += element\n",
    "    return result\n",
    "\n",
    "Time Complexity :O(n)"
   ]
  },
  {
   "cell_type": "code",
   "execution_count": null,
   "id": "a4938962",
   "metadata": {},
   "outputs": [],
   "source": [
    "#Problem 4 :\n",
    "def longest_increasing_subsequence(nums):\n",
    "    n = len(nums)\n",
    "    lis = [1] * n\n",
    "    for i in range(1, n):\n",
    "        for j in range(0, i):\n",
    "            if nums[i] > nums[j] and lis[i] < lis[j] + 1:\n",
    "                lis[i] = lis[j] + 1\n",
    "    return max(lis)\n",
    "\n",
    "Time Complexity : O(n2)"
   ]
  },
  {
   "cell_type": "code",
   "execution_count": 3,
   "id": "9df2cb17",
   "metadata": {},
   "outputs": [],
   "source": [
    "#Problem 5 :\n",
    "def mysterious_function(arr):\n",
    "    n = len(arr)\n",
    "    result = 0\n",
    "    for i in range(n):\n",
    "        for j in range(i, n):\n",
    "            result += arr[i] * arr[j]\n",
    "    return result\n",
    "\n",
    "Time Complexity:O(n2)"
   ]
  },
  {
   "cell_type": "code",
   "execution_count": 5,
   "id": "265de9fa",
   "metadata": {},
   "outputs": [
    {
     "name": "stdout",
     "output_type": "stream",
     "text": [
      "6\n"
     ]
    }
   ],
   "source": [
    "#Problem 6 : Sum of Digits\n",
    "#Write a recursive function to calculate the sum of digits of a given positive integer.\n",
    "#sum_of_digits(123) -> 6\n",
    "def sum_of_digits(num):\n",
    "    if num < 10:\n",
    "        return num\n",
    "    else:\n",
    "        return num % 10 + sum_of_digits(num // 10)\n",
    "print(sum_of_digits(123))"
   ]
  },
  {
   "cell_type": "code",
   "execution_count": 6,
   "id": "e084152e",
   "metadata": {},
   "outputs": [
    {
     "name": "stdout",
     "output_type": "stream",
     "text": [
      "[0, 1, 1, 2, 3, 5]\n"
     ]
    }
   ],
   "source": [
    "#Problem 7: Fibonacci Series\n",
    "#Write a recursive function to generate the first n numbers of the Fibonacci series.\n",
    "def fibonacci_series(n):\n",
    "    if n == 0:\n",
    "        return []\n",
    "    elif n == 1:\n",
    "        return [0]\n",
    "    elif n == 2:\n",
    "        return [0,1]\n",
    "    else:\n",
    "        fib_list = fibonacci_series(n-1)\n",
    "        fib_list.append(fib_list[-1] + fib_list[-2])\n",
    "        return fib_list\n",
    "print(fibonacci_series(6))"
   ]
  },
  {
   "cell_type": "code",
   "execution_count": 7,
   "id": "34959983",
   "metadata": {},
   "outputs": [
    {
     "name": "stdout",
     "output_type": "stream",
     "text": [
      "True\n"
     ]
    }
   ],
   "source": [
    "#Problem 8 : Subset Sum\n",
    "#Given a set of positive integers and a target sum, write a recursive function to determine if there exists a sudefbset of the integers that adds up to the target sum.\n",
    "#subset_sum([3, 34, 4, 12, 5, 2], 9) -> True\n",
    "\n",
    "def subset_sum(nums,target):\n",
    "    def subset_sum_recursive(nums,target,index):\n",
    "        if target == 0:\n",
    "            return True\n",
    "        if index >= len(nums):\n",
    "            return False\n",
    "        if nums[index] <= target:\n",
    "            if subset_sum_recursive(nums,target - nums[index],index + 1):\n",
    "                return True\n",
    "        if subset_sum_recursive(nums,target,index + 1):\n",
    "            return True\n",
    "        return False\n",
    "    return subset_sum_recursive(nums,target, 0)\n",
    "nums = [3,34,4,12,5,2]\n",
    "target = 9\n",
    "print(subset_sum(nums,target))"
   ]
  },
  {
   "cell_type": "code",
   "execution_count": 10,
   "id": "f5daf2fe",
   "metadata": {},
   "outputs": [
    {
     "name": "stdout",
     "output_type": "stream",
     "text": [
      "True\n"
     ]
    }
   ],
   "source": [
    "#Problem 9: Word Break\n",
    "#Given a non-empty string and a dictionary of words, write a recursive function to determine if the string can be segmented into a space-separated sequence of dictionary words.\n",
    "#word_break( leetcode , [ leet , code ]) -> True\n",
    "def word_break(s,wordDict):\n",
    "    memo = {}\n",
    "    def can_segment(s):\n",
    "        if s in memo:\n",
    "            return memo[s]\n",
    "        if s == \"\":\n",
    "            return True\n",
    "        for i in range(len(s)):\n",
    "            prefix = s[:i+1]\n",
    "            if prefix in wordDict and can_segment(s[i+1:]):\n",
    "                memo[s] = True\n",
    "                return True\n",
    "        memo[s] = False\n",
    "        return False\n",
    "    return can_segment(s)\n",
    "s = \"leetcode\"\n",
    "wordDict=[\"leet\",\"code\"]\n",
    "print(word_break(s,wordDict))\n",
    "            "
   ]
  },
  {
   "cell_type": "code",
   "execution_count": 17,
   "id": "54f1fd96",
   "metadata": {},
   "outputs": [
    {
     "name": "stdout",
     "output_type": "stream",
     "text": [
      "[['.Q..', '...Q', 'Q...', '..Q.'], ['..Q.', 'Q...', '...Q', '.Q..']]\n"
     ]
    }
   ],
   "source": [
    "#Problem 10 : N-Queens\n",
    "#Implement a recursive function to solve the N Queens problem, where you have to place N queens on an N×N chessboard in such a way that no two queens threaten each other.\n",
    "def solve_n_queens(n):\n",
    "    def is_valid(row,col):\n",
    "        for prev_row in range(row):\n",
    "            prev_col = queens[prev_row]\n",
    "            if prev_col == col or abs(prev_row-row) == abs(prev_col - col):\n",
    "                return False\n",
    "        return True\n",
    "    def format_solution():\n",
    "        board = []\n",
    "        for row in range(n):\n",
    "            line = ['.'] * n\n",
    "            line[queens[row]] = 'Q'\n",
    "            board.append(\"\".join(line))\n",
    "        return board\n",
    "    def backtrack(row):\n",
    "        if row == n:\n",
    "            solutions.append(format_solution())\n",
    "            return \n",
    "        for col in range(n):\n",
    "            if is_valid(row,col):\n",
    "                queens[row] = col\n",
    "                backtrack(row + 1)\n",
    "    queens = [-1] *n\n",
    "    solutions = []\n",
    "    backtrack(0)\n",
    "    return solutions\n",
    "n = 4\n",
    "print(solve_n_queens(n))"
   ]
  },
  {
   "cell_type": "code",
   "execution_count": null,
   "id": "79ec7723",
   "metadata": {},
   "outputs": [],
   "source": []
  },
  {
   "cell_type": "code",
   "execution_count": null,
   "id": "a21df1cf",
   "metadata": {},
   "outputs": [],
   "source": []
  }
 ],
 "metadata": {
  "kernelspec": {
   "display_name": "Python 3 (ipykernel)",
   "language": "python",
   "name": "python3"
  },
  "language_info": {
   "codemirror_mode": {
    "name": "ipython",
    "version": 3
   },
   "file_extension": ".py",
   "mimetype": "text/x-python",
   "name": "python",
   "nbconvert_exporter": "python",
   "pygments_lexer": "ipython3",
   "version": "3.10.9"
  }
 },
 "nbformat": 4,
 "nbformat_minor": 5
}
